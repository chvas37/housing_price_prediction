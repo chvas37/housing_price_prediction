{
 "cells": [
  {
   "cell_type": "code",
   "execution_count": 1,
   "id": "8603b172",
   "metadata": {
    "vscode": {
     "languageId": "plaintext"
    }
   },
   "outputs": [
    {
     "data": {
      "text/html": [
       "<div>\n",
       "<style scoped>\n",
       "    .dataframe tbody tr th:only-of-type {\n",
       "        vertical-align: middle;\n",
       "    }\n",
       "\n",
       "    .dataframe tbody tr th {\n",
       "        vertical-align: top;\n",
       "    }\n",
       "\n",
       "    .dataframe thead th {\n",
       "        text-align: right;\n",
       "    }\n",
       "</style>\n",
       "<table border=\"1\" class=\"dataframe\">\n",
       "  <thead>\n",
       "    <tr style=\"text-align: right;\">\n",
       "      <th></th>\n",
       "      <th>total_meters</th>\n",
       "      <th>price</th>\n",
       "    </tr>\n",
       "  </thead>\n",
       "  <tbody>\n",
       "    <tr>\n",
       "      <th>0</th>\n",
       "      <td>32.0</td>\n",
       "      <td>13590000</td>\n",
       "    </tr>\n",
       "    <tr>\n",
       "      <th>1</th>\n",
       "      <td>41.0</td>\n",
       "      <td>22600000</td>\n",
       "    </tr>\n",
       "    <tr>\n",
       "      <th>2</th>\n",
       "      <td>40.8</td>\n",
       "      <td>11400000</td>\n",
       "    </tr>\n",
       "    <tr>\n",
       "      <th>3</th>\n",
       "      <td>79.0</td>\n",
       "      <td>75000000</td>\n",
       "    </tr>\n",
       "    <tr>\n",
       "      <th>4</th>\n",
       "      <td>40.1</td>\n",
       "      <td>35500000</td>\n",
       "    </tr>\n",
       "    <tr>\n",
       "      <th>...</th>\n",
       "      <td>...</td>\n",
       "      <td>...</td>\n",
       "    </tr>\n",
       "    <tr>\n",
       "      <th>1258</th>\n",
       "      <td>42.7</td>\n",
       "      <td>9300000</td>\n",
       "    </tr>\n",
       "    <tr>\n",
       "      <th>1259</th>\n",
       "      <td>34.0</td>\n",
       "      <td>9300000</td>\n",
       "    </tr>\n",
       "    <tr>\n",
       "      <th>1260</th>\n",
       "      <td>29.9</td>\n",
       "      <td>9300000</td>\n",
       "    </tr>\n",
       "    <tr>\n",
       "      <th>1261</th>\n",
       "      <td>29.1</td>\n",
       "      <td>9399990</td>\n",
       "    </tr>\n",
       "    <tr>\n",
       "      <th>1262</th>\n",
       "      <td>38.7</td>\n",
       "      <td>9350000</td>\n",
       "    </tr>\n",
       "  </tbody>\n",
       "</table>\n",
       "<p>1263 rows × 2 columns</p>\n",
       "</div>"
      ],
      "text/plain": [
       "      total_meters     price\n",
       "0             32.0  13590000\n",
       "1             41.0  22600000\n",
       "2             40.8  11400000\n",
       "3             79.0  75000000\n",
       "4             40.1  35500000\n",
       "...            ...       ...\n",
       "1258          42.7   9300000\n",
       "1259          34.0   9300000\n",
       "1260          29.9   9300000\n",
       "1261          29.1   9399990\n",
       "1262          38.7   9350000\n",
       "\n",
       "[1263 rows x 2 columns]"
      ]
     },
     "execution_count": 1,
     "metadata": {},
     "output_type": "execute_result"
    }
   ],
   "source": [
    "import pandas as pd\n",
    "import numpy as np\n",
    "from sklearn.model_selection import train_test_split\n",
    "from sklearn.linear_model import LinearRegression\n",
    "from sklearn.metrics import mean_squared_error, r2_score\n",
    "from sklearn.preprocessing import StandardScaler\n",
    "\n",
    "# Загрузка данных\n",
    "data = pd.read_csv(\"train.csv\")\n",
    "data"
   ]
  },
  {
   "cell_type": "code",
   "execution_count": 2,
   "id": "ff287bb2",
   "metadata": {
    "vscode": {
     "languageId": "plaintext"
    }
   },
   "outputs": [
    {
     "name": "stdout",
     "output_type": "stream",
     "text": [
      "Среднеквадратичная ошибка (MSE): 77910820578133.59\n",
      "Корень из среднеквадратичной ошибки (RMSE): 8826710.63\n",
      "Коэффициент детерминации R²: 0.435673\n",
      "Средняя ошибка предсказания: 5190492.91 рублей\n",
      "Коэффициент при площади: 5961782.17\n",
      "Свободный член: 12418104.44\n"
     ]
    }
   ],
   "source": [
    "\n",
    "# Стандартизация признака\n",
    "scaler = StandardScaler()\n",
    "data['total_meters'] = scaler.fit_transform(data[['total_meters']])\n",
    "\n",
    "# Разделение на признаки и целевую переменную\n",
    "X = data[['total_meters']]  # только один признак - площадь\n",
    "y = data['price']\n",
    "\n",
    "# Разделение на тренировочную и тестовую выборки\n",
    "X_train, X_test, y_train, y_test = train_test_split(\n",
    "    X, y, test_size=0.2, random_state=42)\n",
    "\n",
    "# Создание и обучение модели\n",
    "model = LinearRegression()\n",
    "model.fit(X_train, y_train)\n",
    "\n",
    "# Предсказание на тестовой выборке\n",
    "y_pred = model.predict(X_test)\n",
    "\n",
    "# Оценка модели\n",
    "mse = mean_squared_error(y_test, y_pred)\n",
    "rmse = np.sqrt(mse)\n",
    "r2 = r2_score(y_test, y_pred)\n",
    "\n",
    "# Вывод метрик качества\n",
    "# todo: use logging\n",
    "print(f\"Среднеквадратичная ошибка (MSE): {mse:.2f}\")\n",
    "print(f\"Корень из среднеквадратичной ошибки (RMSE): {rmse:.2f}\")\n",
    "print(f\"Коэффициент детерминации R²: {r2:.6f}\")\n",
    "print(f\"Средняя ошибка предсказания: {np.mean(np.abs(y_test - y_pred)):.2f} рублей\")\n",
    "\n",
    "# Коэффициенты модели\n",
    "print(f\"Коэффициент при площади: {model.coef_[0]:.2f}\")\n",
    "print(f\"Свободный член: {model.intercept_:.2f}\")\n"
   ]
  },
  {
   "cell_type": "code",
   "execution_count": 4,
   "id": "1c923b3e",
   "metadata": {
    "vscode": {
     "languageId": "plaintext"
    }
   },
   "outputs": [
    {
     "name": "stdout",
     "output_type": "stream",
     "text": [
      "Модель сохранена в файл f{model_path}\n",
      "Модель загружена из файла\n"
     ]
    }
   ],
   "source": [
    "import joblib\n",
    "# Сохранение модели\n",
    "model_path = 'linear_regression_model.pkl'\n",
    "\n",
    "joblib.dump(model, model_path)\n",
    "print(\"Модель сохранена в файл f{model_path}\")\n",
    "\n",
    "# Загрузка модели\n",
    "loaded_model = joblib.load(model_path)\n",
    "print(\"Модель загружена из файла\")"
   ]
  },
  {
   "cell_type": "code",
   "execution_count": null,
   "id": "6308d4e9-0937-4fa9-b6a5-da80c75b3c8e",
   "metadata": {},
   "outputs": [],
   "source": []
  }
 ],
 "metadata": {
  "kernelspec": {
   "display_name": "Python 3 (ipykernel)",
   "language": "python",
   "name": "python3"
  },
  "language_info": {
   "codemirror_mode": {
    "name": "ipython",
    "version": 3
   },
   "file_extension": ".py",
   "mimetype": "text/x-python",
   "name": "python",
   "nbconvert_exporter": "python",
   "pygments_lexer": "ipython3",
   "version": "3.12.4"
  }
 },
 "nbformat": 4,
 "nbformat_minor": 5
}
